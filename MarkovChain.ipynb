{
 "cells": [
  {
   "cell_type": "markdown",
   "id": "8275c823",
   "metadata": {},
   "source": [
    "<center>\n",
    "\n",
    "# Utilizing Markov Chains with the N-Gram Method to Suggest New Sentences from a Base Text\n",
    "\n",
    "</center>\n",
    "<br><br>\n",
    "\n",
    "<b>Project:</b> Markov Chain and N-Grams  \n",
    "<b>Class:</b> Cpts 315 Washington State University  \n",
    "<b>Description:</b> Final Project  \n",
    "<b>By:</b> Kyle Hurd"
   ]
  },
  {
   "cell_type": "markdown",
   "id": "6d9f2ee7",
   "metadata": {},
   "source": [
    "# Introduction - Markov Chain\n",
    "\n",
    "A <b>Markov Chain</b> is a model that makes predictions based on a sequence of potential states. It will weigh the probability in which a set of states will be in the sequence and use this information to generate a new sequence. The defining characteristic in which probability is weighed is exclusively dependent on a current state and a passage of time. In other words, past states do not influence the Markov Chain, only the current state. The transition from the current state to the next state in a <b>Markov Chain</b> is determined by using probabilty. The algorithm will consider the probability of a current state transitioning to a potential state and transition based on frequency. \n",
    "\n",
    "---\n",
    "\n",
    "Here is an example to explain the behavior described above. Suppose we have a state machine consisting of two states: State <b>q0</b> represents our initial state. Anything traveling to this state will produce a binary value of <b>1</b>. State <b>q1</b> represents the second state which will produce binary <b>0</b>."
   ]
  },
  {
   "cell_type": "markdown",
   "id": "603b38eb",
   "metadata": {},
   "source": [
    "![](./imgs/two_state_machine.png)"
   ]
  },
  {
   "cell_type": "markdown",
   "id": "85e9f613",
   "metadata": {},
   "source": [
    "Let us assume the probability in which state <b>q0</b> will transition to <b>q1</b> is 50/50, vice versa.<br><br> \n",
    "\n",
    "```\n",
    "    P(q0|q0) = 0.50\n",
    "    P(q0|q1) = 0.50\n",
    "    P(q1|q0) = 0.50\n",
    "    P(q1|q1) = 0.50\n",
    "```\n",
    "\n",
    "The above probabilities can be read as follows:  \n",
    "\n",
    "```\n",
    "For P(q0|q0), this describes the probability that a transition from state q0 -> q0 will have a frequency of 50%.  \n",
    "\n",
    "For P(q0|q1), this describes the probability that a transition from state q0 -> q1 will have a frequency of 50%.  \n",
    "\n",
    "For P(q1|q0), this describes the probability that a transition from state q1 -> q0 will have a frequency of 50%.  \n",
    "\n",
    "For P(q1|q1), this describes the probability that a transition from state q1 -> q1 will have a frequency of 50%.\n",
    "```"
   ]
  },
  {
   "cell_type": "markdown",
   "id": "da160055",
   "metadata": {},
   "source": [
    "---\n",
    "In the next example, we will generate a generic state machine with a total of three states, increasing the number of potential transitions to three."
   ]
  },
  {
   "cell_type": "markdown",
   "id": "8b9afa8c",
   "metadata": {},
   "source": [
    "![](./imgs/three_state_machine.png)"
   ]
  },
  {
   "cell_type": "markdown",
   "id": "48cddc89",
   "metadata": {},
   "source": [
    "In this example, we only consider the probabilty of transition from one state to another: information such as the alphabet and grammar are ignored.  \n",
    "\n",
    "The probabilities are listed below:\n",
    "\n",
    "```\n",
    "P(q0|q0) = 0.20\n",
    "P(q0|q1) = 0.40\n",
    "P(q0|q2) = 0.20\n",
    "\n",
    "P(q1|q0) = 0.50\n",
    "P(q1|q1) = 0.25\n",
    "P(q1|q1) = 0.25\n",
    "\n",
    "P(q2|q0) = 0.10\n",
    "P(q2|q1) = 0.80\n",
    "P(q2|q2) = 0.10\n",
    "```"
   ]
  },
  {
   "cell_type": "markdown",
   "id": "ad862e27",
   "metadata": {},
   "source": [
    "## Setting up the Code\n",
    "\n",
    "---\n",
    "\n",
    "First we need to initalize a class with all the information we will need\n",
    "for a Markoc Chain. Here are a few that we will need:\n",
    "\n",
    "- a list of words from our source text for which to build the chain.\n",
    "- a dictionary to store the n-grams and list of next words.\n",
    "- the name of the source file (in case of accessing later.\n",
    "\n",
    "I also thought it would be cool to hold some information regarding the total number of\n",
    "characters, words, and unique words in the text. We will store this information in a dataclass.\n"
   ]
  },
  {
   "cell_type": "code",
   "execution_count": 111,
   "id": "53016424",
   "metadata": {},
   "outputs": [],
   "source": [
    "import jdc\n",
    "import random\n",
    "from colorama import Fore, Style\n",
    "from dataclasses import dataclass\n",
    "\n",
    "HUNGER_GAMES_FILENAME = './data/hunger_games.txt'"
   ]
  },
  {
   "cell_type": "markdown",
   "id": "c9c0ce22",
   "metadata": {},
   "source": [
    "## TextSpecs DataClass"
   ]
  },
  {
   "cell_type": "code",
   "execution_count": 95,
   "id": "c64ae4a2",
   "metadata": {},
   "outputs": [],
   "source": [
    "@dataclass\n",
    "class TextSpecs:\n",
    "    num_chars: int = 0\n",
    "    num_words: int = 0\n",
    "    num_unique_words: int = 0\n",
    "        \n",
    "        \n",
    "    def _populate(self, num_chars: int, num_words: int, num_unique_words: int):\n",
    "        self.num_chars += num_chars\n",
    "        self.num_words += num_words\n",
    "        self.num_unique_words += num_unique_words\n",
    "        \n",
    "        \n",
    "    def display_specs(self):\n",
    "        print(f'{Style.BRIGHT}{Fore.LIGHTGREEN_EX}{\"#\" * 18}' \\\n",
    "              f'{\"#\" * (len(str(self.num_unique_words)) + 1)}{Style.RESET_ALL}')\n",
    "        \n",
    "        print(f'{Style.BRIGHT}num chars: {Style.RESET_ALL}{self.num_chars}{Style.RESET_ALL} ')\n",
    "        print(f'{Style.BRIGHT}num words: {Style.RESET_ALL}{self.num_words}{Style.RESET_ALL} ')\n",
    "        print(f'{Style.BRIGHT}num unique words: {Style.RESET_ALL}{self.num_unique_words}{Style.RESET_ALL} ')\n",
    "        \n",
    "        print(f'{Style.BRIGHT}{Fore.LIGHTGREEN_EX}{\"#\" * 18}' \\\n",
    "              f'{\"#\" * (len(str(self.num_unique_words)) + 1)}{Style.RESET_ALL}')"
   ]
  },
  {
   "cell_type": "markdown",
   "id": "bf3cda0b",
   "metadata": {},
   "source": [
    "## MarkovChain Class\n",
    "\n",
    "---\n",
    "\n",
    "Below is the initializer for the MarkovChain. It also defines `display_specs` which utilizes the `TextSpecs`\n",
    "dataclass defined above to print out information regarding the text(s) we are using. It is important to note\n",
    "that `TextSpecs.populate()` keeps the original values and adds to it using the augmented assignment operator. This\n",
    "means we should not call these functions directly in practice, but should use the wrapper function defined further\n",
    "down the page."
   ]
  },
  {
   "cell_type": "code",
   "execution_count": 158,
   "id": "8c073f62",
   "metadata": {},
   "outputs": [],
   "source": [
    "class MarkovChain:\n",
    "    \n",
    "    def __init__(self, filenames: list, N: int=3, stop_characters=None, stop_words=None):\n",
    "        self.initial_words = []\n",
    "        self.n_grams = {}\n",
    "        self.filenames = filenames\n",
    "        self.stop_characters = stop_characters\n",
    "        self.stop_words = stop_words\n",
    "        self.N = N\n",
    "        self.specs = TextSpecs()\n",
    "        \n",
    "    \n",
    "    def display_specs(self):\n",
    "        print(f'{Style.BRIGHT}Files:{Style.RESET_ALL}')\n",
    "        for filename in self.filenames:\n",
    "            print(f'{Style.BRIGHT}{Fore.LIGHTRED_EX}-{Style.RESET_ALL} {filename}')\n",
    "        self.specs.display_specs()"
   ]
  },
  {
   "cell_type": "markdown",
   "id": "113cd2bf",
   "metadata": {},
   "source": [
    "\n",
    "    For the methods below, these will be wrapped with a function to keep the proper\n",
    "    states of the initialized variables within `MarkovChain` and `TextSpecs`\n",
    "\n",
    "## MarkovChain._init_words()"
   ]
  },
  {
   "cell_type": "code",
   "execution_count": 159,
   "id": "4d0f9962",
   "metadata": {},
   "outputs": [],
   "source": [
    "%%add_to MarkovChain\n",
    "\n",
    "def _init_words(self):\n",
    "    \n",
    "    for filename in self.filenames:\n",
    "        with open(filename, 'r') as f:\n",
    "            chars = f.read()\n",
    "            words = chars.split()\n",
    "            unique_words = set(words)\n",
    "            self.specs._populate(len(chars), len(words), len(unique_words))\n",
    "            self.initial_words.extend(words)"
   ]
  },
  {
   "cell_type": "code",
   "execution_count": 160,
   "id": "b066d0e6",
   "metadata": {},
   "outputs": [
    {
     "name": "stdout",
     "output_type": "stream",
     "text": [
      "\u001b[1mFiles:\u001b[0m\n",
      "\u001b[1m\u001b[91m-\u001b[0m ./data/hunger_games.txt\n",
      "\u001b[1m\u001b[92m#######################\u001b[0m\n",
      "\u001b[1mnum chars: \u001b[0m18669\u001b[0m \n",
      "\u001b[1mnum words: \u001b[0m3543\u001b[0m \n",
      "\u001b[1mnum unique words: \u001b[0m1448\u001b[0m \n",
      "\u001b[1m\u001b[92m#######################\u001b[0m\n",
      "\n",
      "\u001b[1mPreview of the Text:\u001b[0m\n",
      "When I wake up, the other side of the bed is cold. My fingers stretch out, seeking Prim’s warmth but finding only the rough canvas cover of the mattress. She must have had bad dreams and climbed in with our mother. Of course, she did. This is the day of "
     ]
    }
   ],
   "source": [
    "mc = MarkovChain([HUNGER_GAMES_FILENAME], 3)\n",
    "mc._init_words()\n",
    "mc.display_specs()\n",
    "\n",
    "print(f'\\n{Style.BRIGHT}Preview of the Text:{Style.RESET_ALL}')\n",
    "for i in range(50):\n",
    "    print(mc.initial_words[i], end=' ')"
   ]
  },
  {
   "cell_type": "markdown",
   "id": "4d5121a3",
   "metadata": {},
   "source": [
    "## MarkovChain._create_ngram_dict()\n",
    "\n",
    "This is where the probability between states comes in to play. Note here, when we add the next word beyond the\n",
    "n-gram (the Nth + 1 word), we allow duplicates into the list. This means we could recieve a list such as \n",
    "`[the, The, the, tiny]` where 75% of the words are `the` and 25% are `tiny`. When selecting from this list\n",
    "in the future, this means that if we select from the bag of words randomly, we should see a selection of the\n",
    "word `the` approximately 75% of the time."
   ]
  },
  {
   "cell_type": "code",
   "execution_count": 187,
   "id": "97227460",
   "metadata": {},
   "outputs": [],
   "source": [
    "%%add_to MarkovChain\n",
    "\n",
    "def _create_ngram_dict(self):\n",
    "    n_grams = zip(*[self.initial_words[i:] for i in range(self.N + 1)])\n",
    "    for n_gram in n_grams:\n",
    "        key = n_gram[:self.N]\n",
    "        next_word = n_gram[-1]\n",
    "        self.n_grams[key] = self.n_grams.get(key, []) + [next_word]"
   ]
  },
  {
   "cell_type": "code",
   "execution_count": 193,
   "id": "fe3c3c87",
   "metadata": {},
   "outputs": [
    {
     "name": "stdout",
     "output_type": "stream",
     "text": [
      "\n",
      "\u001b[1mPreview of the N-Grams:\u001b[0m\n",
      "\u001b[1m- \u001b[0m\u001b[92mup,\u001b[0m \n",
      "\u001b[1m- \u001b[0m\u001b[92mthe\u001b[0m \n",
      "\u001b[1m- \u001b[0m\u001b[92mother\u001b[0m \n",
      "\u001b[1m- \u001b[0m\u001b[92mside\u001b[0m \n",
      "\u001b[1m- \u001b[0m\u001b[92mof\u001b[0m \n",
      "\u001b[1m- \u001b[0m\u001b[92mhad\u001b[0m \u001b[92mreally\u001b[0m \n",
      "\u001b[1m- \u001b[0m\u001b[92mday\u001b[0m \u001b[92mclosest\u001b[0m \n",
      "\u001b[1m- \u001b[0m\u001b[92m12,\u001b[0m \u001b[92m12.\u001b[0m \n",
      "\u001b[1m- \u001b[0m\u001b[92mnicknamed\u001b[0m \u001b[92mis\u001b[0m \n",
      "\u001b[1m- \u001b[0m\u001b[92monly\u001b[0m \u001b[92mtry\u001b[0m \n"
     ]
    }
   ],
   "source": [
    "mc.n_grams = {} # Only used because we are calling this multiple times.\n",
    "\n",
    "mc._create_ngram_dict()\n",
    "n_gram_vals = list(mc.n_grams.values())\n",
    "\n",
    "print(f'\\n{Style.BRIGHT}Preview of the N-Grams:{Style.RESET_ALL}')\n",
    "for n_gram in n_gram_vals[:5]:\n",
    "    print(f'{Style.BRIGHT}- {Style.RESET_ALL}', end='')\n",
    "    for gram in n_gram:\n",
    "        print(f'{Fore.LIGHTGREEN_EX}{gram}{Style.RESET_ALL}', end=' ')\n",
    "    print()\n",
    "    \n",
    "n_gram_vals = list(filter(lambda x: len(x) > 1, n_gram_vals))\n",
    "for n_gram in n_gram_vals[:5]:\n",
    "    print(f'{Style.BRIGHT}- {Style.RESET_ALL}', end='')\n",
    "    for gram in n_gram:\n",
    "        print(f'{Fore.LIGHTGREEN_EX}{gram}{Style.RESET_ALL}', end=' ')\n",
    "    print()"
   ]
  },
  {
   "cell_type": "code",
   "execution_count": null,
   "id": "4fa210f8",
   "metadata": {},
   "outputs": [],
   "source": []
  },
  {
   "cell_type": "code",
   "execution_count": null,
   "id": "ef916dce",
   "metadata": {},
   "outputs": [],
   "source": []
  }
 ],
 "metadata": {
  "kernelspec": {
   "display_name": "Cpts_315_Kernel_Final_Project",
   "language": "python",
   "name": "cpts_315_kernel_final_project"
  },
  "language_info": {
   "codemirror_mode": {
    "name": "ipython",
    "version": 3
   },
   "file_extension": ".py",
   "mimetype": "text/x-python",
   "name": "python",
   "nbconvert_exporter": "python",
   "pygments_lexer": "ipython3",
   "version": "3.7.4"
  }
 },
 "nbformat": 4,
 "nbformat_minor": 5
}
